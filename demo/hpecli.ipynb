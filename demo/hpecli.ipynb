{
 "cells": [
  {
   "cell_type": "markdown",
   "metadata": {},
   "source": [
    "# Using the version command and the loglevel flag\n",
    "You can use `hpecli --help` to find out about the usage of the command. You can get the version of the hpecli with `hpecli version`. You can specify a loglevel flag with every command for example with `hpecli version --loglevel debug` in order to get more details about what is happening in the background. For example hpecli queries github to find out if a new version is available.\n",
    "\n",
    "<img src=\"hpecli-version.gif\" align=\"center\">\n",
    "\n"
   ]
  },
  {
   "cell_type": "markdown",
   "metadata": {},
   "source": [
    "# Using the update command\n",
    "If a newer version is available, which we check at command invokation, you can use `hpecli update` to download the latest version.\n",
    "\n",
    "<img src=\"hpecli-update.gif\" align=\"center\">"
   ]
  },
  {
   "cell_type": "markdown",
   "metadata": {},
   "source": [
    "# Using oneview commands\n",
    "There is a plugin for HPE OneView with allows to control one or more HPE OneView appliance using the `hpecli oneview` command set. Run `hpe oneview --help` to find out the supported verbs. Then we can use `hpecli oneview login`to connect to an HPE OneView instance then `hpecli oneview get servers` or `hpecli oneview get enclosures` to retrieve information from HPE OneView. When done we can use `hpecli oneview logout` to terminate the session.\n",
    "\n",
    "<img src=\"hpecli-oneview1.gif\" align=\"center\">"
   ]
  },
  {
   "cell_type": "markdown",
   "metadata": {},
   "source": [
    "# Using context\n",
    "\n",
    "We cache the latest context used for a given plugin. But you can switch to a different context using `hpe oneview context --host otherhost`.\n",
    "\n",
    "\n"
   ]
  }
 ],
 "metadata": {
  "kernelspec": {
   "display_name": "Python 3",
   "language": "python",
   "name": "python3"
  },
  "language_info": {
   "codemirror_mode": {
    "name": "ipython",
    "version": 3
   },
   "file_extension": ".py",
   "mimetype": "text/x-python",
   "name": "python",
   "nbconvert_exporter": "python",
   "pygments_lexer": "ipython3",
   "version": "3.7.6"
  }
 },
 "nbformat": 4,
 "nbformat_minor": 2
}
